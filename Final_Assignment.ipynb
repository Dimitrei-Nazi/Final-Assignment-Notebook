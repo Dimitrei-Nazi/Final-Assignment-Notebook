{
 "cells": [
  {
   "cell_type": "markdown",
   "id": "30eeb4f9-56fa-42e1-b96b-c44603e9202f",
   "metadata": {},
   "source": [
    "<h1>Data Science Tools and Ecosystem</h1>"
   ]
  },
  {
   "cell_type": "markdown",
   "id": "3b055bb0-fa13-4a9f-8dac-ec4ccdd2ff5b",
   "metadata": {},
   "source": [
    "In this notebook, Data Science Tools and Ecosystem are summarized.\n"
   ]
  },
  {
   "cell_type": "markdown",
   "id": "8f869aa1-57ce-4993-bd1c-d6a4afda8f39",
   "metadata": {},
   "source": [
    "Some of the popular languages that Data Scientists use are:\n"
   ]
  },
  {
   "cell_type": "markdown",
   "id": "22cd8aa2-3629-44df-b06c-8b44a7ad89b3",
   "metadata": {},
   "source": [
    "<ol>\n",
    "  <li>Python</li>\n",
    "  <li>R</li>\n",
    "  <li>SQL</li>\n",
    "  <li>Java</li>\n",
    "</ol>"
   ]
  },
  {
   "cell_type": "markdown",
   "id": "0b0fa65c-7780-4e08-83a5-53cc48ef2d15",
   "metadata": {},
   "source": [
    "Some of the commonly used libraries used by Data Scientists include:"
   ]
  },
  {
   "cell_type": "markdown",
   "id": "39343d2a-06ae-408d-af3c-d832247f3278",
   "metadata": {},
   "source": [
    "<ol>\n",
    "  <li>ggplot2</li>\n",
    "  <li>NumPy</li>\n",
    "  <li>Pandas</li>\n",
    "  <li>TensorFlow</li>\n",
    "</ol>"
   ]
  },
  {
   "cell_type": "markdown",
   "id": "90277364-cf6f-46a8-ac99-96e90fdd063e",
   "metadata": {},
   "source": [
    "| Data Science Tools |\n",
    "|----------|\n",
    "|RStudio|\n",
    "|JupyterLab|\n",
    "|Watson Studio|\n"
   ]
  },
  {
   "cell_type": "markdown",
   "id": "7ce644d9-4e6f-442c-82b6-defad3062c0e",
   "metadata": {},
   "source": [
    "<h3>Below are a few examples of evaluating arithmetic expressions in Python</h3>"
   ]
  },
  {
   "cell_type": "code",
   "execution_count": 9,
   "id": "f8be4859-3665-4450-9d65-2d725eee5298",
   "metadata": {},
   "outputs": [
    {
     "data": {
      "text/plain": [
       "17"
      ]
     },
     "execution_count": 9,
     "metadata": {},
     "output_type": "execute_result"
    }
   ],
   "source": [
    "# This a simple arithmetic expression to mutiply then add integers\n",
    "(3*4)+5 "
   ]
  },
  {
   "cell_type": "code",
   "execution_count": 10,
   "id": "87c90b7a-d861-41b3-a002-c6dbd13008e8",
   "metadata": {},
   "outputs": [
    {
     "data": {
      "text/plain": [
       "3.3333333333333335"
      ]
     },
     "execution_count": 10,
     "metadata": {},
     "output_type": "execute_result"
    }
   ],
   "source": [
    "# This will convert 200 minutes to hours by diving by 60\n",
    "200/60"
   ]
  },
  {
   "cell_type": "markdown",
   "id": "d76896df-0897-4df9-9579-9513705df031",
   "metadata": {},
   "source": [
    "**Objectives:**\r",
    "<ul>\n",
    "  <li>List popular languages for Data Science</li>\n",
    "  <li>Introduction to R Language</li>\n",
    "  <li>Introduction to SQL</li>\n",
    "  <li>Other Languages for Data Science</li>\n",
    "</ul>\n"
   ]
  },
  {
   "cell_type": "markdown",
   "id": "2be20b2d-f795-4478-80eb-aa79af35ce98",
   "metadata": {},
   "source": [
    "<h2>Author</h2>\n",
    "Dimitrei Nazi"
   ]
  }
 ],
 "metadata": {
  "kernelspec": {
   "display_name": "Python 3 (ipykernel)",
   "language": "python",
   "name": "python3"
  },
  "language_info": {
   "codemirror_mode": {
    "name": "ipython",
    "version": 3
   },
   "file_extension": ".py",
   "mimetype": "text/x-python",
   "name": "python",
   "nbconvert_exporter": "python",
   "pygments_lexer": "ipython3",
   "version": "3.11.7"
  }
 },
 "nbformat": 4,
 "nbformat_minor": 5
}
